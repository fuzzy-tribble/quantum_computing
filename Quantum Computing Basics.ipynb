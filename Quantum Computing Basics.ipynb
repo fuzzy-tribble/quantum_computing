{
 "cells": [
  {
   "cell_type": "markdown",
   "metadata": {},
   "source": [
    "# Quantum Computing Basics"
   ]
  },
  {
   "cell_type": "markdown",
   "metadata": {},
   "source": [
    "In this notebook we will be learning how to run programs using **pyQuil** (Python + quantum instruction lang) on a **QVM** (quantum virtual machine).\n",
    "\n",
    "We will start by learning on the QVM so we don't waste resources while we are learning the basics then later get a free educational API key and run the same programs on an actual quantum computer! :D"
   ]
  },
  {
   "cell_type": "markdown",
   "metadata": {},
   "source": [
    "# Classical vs Quantum Bits\n",
    "\n",
    "*Feel free to skip this section if you are already comfortable with the basics of classical and quantum computing.*\n",
    "\n",
    "When we start to build up to higher levels of abstraction we need to be able to manipulate the bits. Because of their fundamentally different nature, cbits (classical bits) and qubits (quantum bits) have different states are therefore manipulated differently."
   ]
  },
  {
   "cell_type": "markdown",
   "metadata": {},
   "source": [
    "### Classical Bits (cbits)"
   ]
  },
  {
   "cell_type": "markdown",
   "metadata": {
    "heading_collapsed": true
   },
   "source": [
    "#### States and operations \n",
    "\n",
    "The state of a cbit is only ever on or off (ie 1 or 0)"
   ]
  },
  {
   "cell_type": "markdown",
   "metadata": {
    "hidden": true
   },
   "source": [
    "##### Single Cbit\n",
    "Given a single bit, we can keep it constant (const-0 and const-1), flip it (negation: 0 to 1 and 1 to 0), or do nothing to it (identity: 0 to 0; 1 to 1)\n",
    "\n",
    "| Operation Name  | Mathematical Representation |\n",
    "|---|---|\n",
    "| Identity | $f(x) = x$  |\n",
    "| Negation | $ f(x) = \\lnot x$ |\n",
    "| Constant-0 | $f(x) = 0$ |\n",
    "| Constant-1 | $f(x) = 1$ |\n",
    "\n",
    "\n",
    "##### Multi Cbit\n",
    "Given two or more bits we can perform certain operations as well, we can use one bit to control the state of another like in the case of `CNOT`.\n",
    "\n",
    "`CNOT` has a control bit and target bit; the target bit flips iff (if and only if) the control bit is 1.\n",
    "\n",
    "The control bit (left) is 0; nothing changes\n",
    "```\n",
    "00 -> 00\n",
    "01 -> 01\n",
    "```\n",
    "\n",
    "The control bit is 1; the target bit flips\n",
    "```\n",
    "10 -> 11\n",
    "11 -> 10\n",
    "```"
   ]
  },
  {
   "cell_type": "markdown",
   "metadata": {},
   "source": [
    "### Quantum Bits (qbits)\n",
    "\n",
    "#### States and operations\n",
    "\n",
    "The state of a single qubit can be represented as a vector\n",
    "\n",
    "$$\n",
    "{\\displaystyle |a\\rangle =v_{0}|0\\rangle +v_{1}|1\\rangle \\rightarrow {\\begin{bmatrix}v_{0}\\\\v_{1}\\end{bmatrix}}}\n",
    "$$\n",
    "\n",
    "They can also be shown graphically as complex vectors on the Bloch Sphere\n",
    "\n",
    "![bloch_sphere](bloch_1.png)"
   ]
  },
  {
   "cell_type": "markdown",
   "metadata": {},
   "source": [
    "##### Single Qubit Operations\n",
    "\n",
    "Because we represent the sate of a qubit as a vector, the operations performed on that vector are also shown as a vector or matrix.\n",
    "\n",
    "Similar to the cbit, ... identity, not "
   ]
  },
  {
   "cell_type": "markdown",
   "metadata": {},
   "source": [
    "###### Identity\n",
    "\n",
    "The identity matrix leaves the state vector unchanged\n",
    "\n",
    "$$\n",
    "I = \n",
    "\\quad\n",
    "\\begin{pmatrix}\n",
    "1 & 0 \\\\\n",
    "0 & 1\n",
    "\\end{pmatrix}\n",
    "\\quad\n",
    "$$\n",
    "\n",
    "$$\n",
    "I|0⟩ =\n",
    "\\quad\n",
    "\\begin{pmatrix}\n",
    "1 & 0 \\\\\n",
    "0 & 1\n",
    "\\end{pmatrix}\n",
    "\\quad\n",
    "\\quad\n",
    "\\begin{pmatrix}\n",
    "1 \\\\\n",
    "0\n",
    "\\end{pmatrix}\n",
    "\\quad\n",
    "= |0⟩\n",
    "$$"
   ]
  },
  {
   "cell_type": "markdown",
   "metadata": {},
   "source": [
    "##### Multi Qubit Operations\n",
    "\n",
    "Operations can also be applied to composite states of multiple qubits. \n",
    "\n",
    "The vector representation of two qubits looks like this\n",
    "\n",
    "$$\n",
    "{\\displaystyle |ab\\rangle =|a\\rangle \\otimes |b\\rangle =v_{00}|00\\rangle +v_{01}|01\\rangle +v_{10}|10\\rangle +v_{11}|11\\rangle \\rightarrow {\\begin{bmatrix}v_{00}\\\\v_{01}\\\\v_{10}\\\\v_{11}\\end{bmatrix}}},\n",
    "$$"
   ]
  },
  {
   "cell_type": "markdown",
   "metadata": {},
   "source": [
    "##### Quantum Logic Circuits"
   ]
  },
  {
   "cell_type": "markdown",
   "metadata": {},
   "source": [
    "# Classical and Quantum Logic Circuits\n",
    "\n",
    "Unsurprisingly `cbits` and `qubits` have a variety of different logic gates which are then used in more complex logic circuits. \n",
    "\n",
    "With `cbits` we use gates like `AND`, `NAND`, `OR`, `NOR`, `XOR`, and `NOT` to build integrated circuits which can then be used as an amplifier, oscillator, timer, microprocessor, or even computer memory.\n",
    "\n",
    "With `qubits` there are still developing the gates and circuits to figure out what types of applications make sense but so far, commonly used quantum gates include `X(NOT)`, `Y`, `Z`, `HADAMARD`, `CNOT`, `CPHASE`, and `SWAP`."
   ]
  },
  {
   "cell_type": "markdown",
   "metadata": {
    "heading_collapsed": true
   },
   "source": [
    "## Classical Gates and Circuits\n",
    "\n",
    "These operations allow us to create circuit diagrams to control the flow of bits so we can perform more complex operations."
   ]
  },
  {
   "cell_type": "markdown",
   "metadata": {
    "hidden": true
   },
   "source": [
    "Logic gates in classical computing include:\n",
    "\n",
    "| Gate  | Operation |\n",
    "|---|---|\n",
    "| AND | True only when all of the inputs are true  |\n",
    "| OR | True if one or more inputs is true |\n",
    "| NOT | Output is the opposite of the input (negation) |\n",
    "| NAND | Output is false only if all its inputs are true; negation of the AND gate; N(AND) |\n",
    "| NOR | The negation of the OR gate; N(OR) |"
   ]
  },
  {
   "cell_type": "markdown",
   "metadata": {
    "hidden": true
   },
   "source": [
    "From these logic gates we can build logic circuits which can be used to compute more complex things like the logic gates below\n",
    "\n",
    "```\n",
    "(NOT A) OR (B AND C)\n",
    "```\n",
    "\n",
    "![classical_logic_1](img/diagram-1.png)"
   ]
  },
  {
   "cell_type": "code",
   "execution_count": 22,
   "metadata": {
    "hidden": true
   },
   "outputs": [
    {
     "name": "stdout",
     "output_type": "stream",
     "text": [
      "True\n"
     ]
    }
   ],
   "source": [
    "# Change the values of A, B, and C to check your understanding\n",
    "A = True\n",
    "B = True\n",
    "C = True\n",
    "\n",
    "print((not A) or (B and C))"
   ]
  },
  {
   "cell_type": "markdown",
   "metadata": {
    "hidden": true
   },
   "source": [
    "```\n",
    "NOT( (NOT A) OR (B AND C) )\n",
    "```\n",
    "\n",
    "![diagram_2](img/diagram-2.png)"
   ]
  },
  {
   "cell_type": "code",
   "execution_count": 24,
   "metadata": {
    "hidden": true
   },
   "outputs": [
    {
     "name": "stdout",
     "output_type": "stream",
     "text": [
      "True\n"
     ]
    }
   ],
   "source": [
    "# Change the values of A, B, and C to check your understanding\n",
    "A = True\n",
    "B = True\n",
    "C = True\n",
    "\n",
    "print(not(not A) or (B and C))"
   ]
  },
  {
   "cell_type": "markdown",
   "metadata": {
    "hidden": true
   },
   "source": [
    "DO NOT FUCKING DELETE\n",
    "\n",
    "http://homepage.divms.uiowa.edu/~ghosh/LogicDesign.pdf"
   ]
  },
  {
   "cell_type": "markdown",
   "metadata": {},
   "source": [
    "## Quantum Gates and Circuits"
   ]
  },
  {
   "cell_type": "code",
   "execution_count": 1,
   "metadata": {},
   "outputs": [],
   "source": [
    "import qiskit as qk"
   ]
  },
  {
   "cell_type": "markdown",
   "metadata": {},
   "source": [
    "### Hadamard (H) Gate\n",
    "\n",
    "Maps the base state to equal probability of 1 and 0."
   ]
  },
  {
   "cell_type": "code",
   "execution_count": 14,
   "metadata": {},
   "outputs": [],
   "source": [
    "# Create a qubit\n",
    "q = qk.QuantumRegister(1)\n",
    "\n",
    "# create a classical bit (one cbit is required per measurement?)\n",
    "c = qk.ClassicalRegister(1)"
   ]
  },
  {
   "cell_type": "code",
   "execution_count": 15,
   "metadata": {},
   "outputs": [],
   "source": [
    "circuit = qk.QuantumCircuit(q, c)"
   ]
  },
  {
   "cell_type": "code",
   "execution_count": 16,
   "metadata": {},
   "outputs": [
    {
     "data": {
      "text/plain": [
       "<qiskit.circuit.instructionset.InstructionSet at 0x135a93750>"
      ]
     },
     "execution_count": 16,
     "metadata": {},
     "output_type": "execute_result"
    }
   ],
   "source": [
    "# Hadamard Gate on the first Qubit\n",
    "circuit.h(q[0])\n",
    "\n",
    "# CNOT Gate on the first and second Qubits\n",
    "# circuit.cx(q[0], q[1])\n",
    "\n",
    "# Measuring the Qubits\n",
    "circuit.measure(q, c)"
   ]
  },
  {
   "cell_type": "code",
   "execution_count": 17,
   "metadata": {},
   "outputs": [
    {
     "name": "stdout",
     "output_type": "stream",
     "text": [
      "         ┌───┐┌─┐\n",
      "q4_0: |0>┤ H ├┤M├\n",
      "         └───┘└╥┘\n",
      " c2_0: 0 ══════╩═\n",
      "                 \n"
     ]
    }
   ],
   "source": [
    "# Make sure it looks right\n",
    "print (circuit)"
   ]
  },
  {
   "cell_type": "code",
   "execution_count": 18,
   "metadata": {},
   "outputs": [
    {
     "name": "stdout",
     "output_type": "stream",
     "text": [
      "{'0': 515, '1': 509}\n"
     ]
    }
   ],
   "source": [
    "# Using Qiskit Aer's Qasm Simulator\n",
    "simulator = qk.BasicAer.get_backend('qasm_simulator')\n",
    "\n",
    "# Simulating the circuit using the simulator to get the result\n",
    "job = qk.execute(circuit, simulator)\n",
    "result = job.result()\n",
    "\n",
    "# Getting the aggregated binary outcomes of the circuit.\n",
    "counts = result.get_counts(circuit)\n",
    "print (counts)"
   ]
  },
  {
   "cell_type": "markdown",
   "metadata": {},
   "source": [
    "### Pauli Gates (X,Y,Z)\n",
    "\n",
    "180-degree axis flip"
   ]
  },
  {
   "cell_type": "markdown",
   "metadata": {},
   "source": [
    "These operations (called Pauli matricies) will rotate the the qubit 180-degrees about its respective axes (eg. the X gate performs a 180-degree rotation about the X axis).\n",
    "\n",
    "$$\n",
    "X = \n",
    "\\quad\n",
    "\\begin{pmatrix}\n",
    "0 & 1 \\\\\n",
    "1 & 0\n",
    "\\end{pmatrix}\n",
    "\\quad\n",
    "Y = \n",
    "\\quad\n",
    "\\begin{pmatrix}\n",
    "0 & -i \\\\\n",
    "i & 0\n",
    "\\end{pmatrix}\n",
    "\\quad\n",
    "Z = \n",
    "\\quad\n",
    "\\begin{pmatrix}\n",
    "1 & 0 \\\\\n",
    "0 & 1\n",
    "\\end{pmatrix}\n",
    "\\quad\n",
    "$$\n",
    "\n",
    "Example\n",
    "for a state vector initially in the +𝑧 direction, both X and Y gates will rotate it to −𝑧, and the Z gate will leave it unchanged.\n",
    "\n",
    "\n",
    "*Note: while the X and Y gates produce the same outcome probabilities, they actually produce different states. These states are not distinguished if they are measured immediately, but they produce different results in larger programs.*"
   ]
  },
  {
   "cell_type": "markdown",
   "metadata": {},
   "source": [
    "### NOT and √NOT Gate\n",
    "\n"
   ]
  },
  {
   "cell_type": "markdown",
   "metadata": {},
   "source": [
    "### Phase shift $({\\displaystyle R_{\\phi }})$ Gates"
   ]
  },
  {
   "cell_type": "markdown",
   "metadata": {},
   "source": [
    "### Swap and √SWAP\n",
    "\n",
    "Swap (SWAP) gate\n",
    "Square root of Swap gate (√SWAP)"
   ]
  },
  {
   "cell_type": "markdown",
   "metadata": {},
   "source": [
    "### Controlled (cX cY cZ) gates\n",
    "Toffoli (CCNOT) gate\n",
    "Fredkin (CSWAP) gate"
   ]
  },
  {
   "cell_type": "markdown",
   "metadata": {},
   "source": [
    "### Ising Gates (coupling gates)\n",
    "\n",
    "Ising (XX) coupling gate\n",
    "Ising (YY) coupling gate\n",
    "Ising (ZZ) coupling gate\n",
    "\n"
   ]
  },
  {
   "cell_type": "markdown",
   "metadata": {},
   "source": [
    "### Deutsch $({\\displaystyle D_{\\theta }})$ gate"
   ]
  },
  {
   "cell_type": "markdown",
   "metadata": {},
   "source": []
  },
  {
   "cell_type": "markdown",
   "metadata": {},
   "source": []
  },
  {
   "cell_type": "markdown",
   "metadata": {},
   "source": [
    "##### CNOT Gate\n",
    "\n",
    "One common example is the controlled-NOT or CNOT gate that works on two qubits. Its matrix form is:\n",
    "\n",
    "$$\n",
    "CNOT = \n",
    "\\quad\n",
    "\\begin{pmatrix}\n",
    "1 & 0 & 0 & 0 \\\\\n",
    "0 & 1 & 0 & 0 \\\\\n",
    "0 & 1 & 0 & 1 \\\\\n",
    "0 & 0 & 1 & 0 \\\\\n",
    "\\end{pmatrix}\n",
    "\\quad\n",
    "$$\n",
    "\n",
    "The CNOT gate does what its name implies: the state of the second qubit is flipped (negated) if and only if the state of the first qubit is 1 (true)."
   ]
  },
  {
   "cell_type": "markdown",
   "metadata": {},
   "source": [
    "##### SWAP Gate\n",
    "\n",
    "Another two-qubit gate example is the SWAP gate, which swaps the |01⟩ and |10⟩ states:\n",
    "\n",
    "$$\n",
    "SWAP = \n",
    "\\quad\n",
    "\\begin{pmatrix}\n",
    "1 & 0 & 0 & 0 \\\\\n",
    "0 & 0 & 1 & 0 \\\\\n",
    "0 & 1 & 0 & 0 \\\\\n",
    "0 & 0 & 0 & 1 \\\\\n",
    "\\end{pmatrix}\n",
    "\\quad\n",
    "$$"
   ]
  },
  {
   "cell_type": "markdown",
   "metadata": {},
   "source": [
    "# Installation and Setup"
   ]
  },
  {
   "cell_type": "markdown",
   "metadata": {},
   "source": [
    "# References and Additional Resources"
   ]
  },
  {
   "cell_type": "markdown",
   "metadata": {},
   "source": [
    "- [Introduction to Quantum Computing: Rigetti](http://docs.rigetti.com/en/stable/intro.html#intro)"
   ]
  }
 ],
 "metadata": {
  "kernelspec": {
   "display_name": "Python 3",
   "language": "python",
   "name": "python3"
  },
  "language_info": {
   "codemirror_mode": {
    "name": "ipython",
    "version": 3
   },
   "file_extension": ".py",
   "mimetype": "text/x-python",
   "name": "python",
   "nbconvert_exporter": "python",
   "pygments_lexer": "ipython3",
   "version": "3.7.5"
  },
  "latex_envs": {
   "LaTeX_envs_menu_present": true,
   "autoclose": false,
   "autocomplete": true,
   "bibliofile": "biblio.bib",
   "cite_by": "apalike",
   "current_citInitial": 1,
   "eqLabelWithNumbers": true,
   "eqNumInitial": 1,
   "hotkeys": {
    "equation": "Ctrl-E",
    "itemize": "Ctrl-I"
   },
   "labels_anchors": false,
   "latex_user_defs": false,
   "report_style_numbering": false,
   "user_envs_cfg": false
  }
 },
 "nbformat": 4,
 "nbformat_minor": 2
}
